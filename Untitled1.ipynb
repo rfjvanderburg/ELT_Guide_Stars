{
 "cells": [
  {
   "cell_type": "code",
   "execution_count": 1,
   "id": "urban-funds",
   "metadata": {},
   "outputs": [],
   "source": [
    "import astropy.coordinates"
   ]
  },
  {
   "cell_type": "code",
   "execution_count": 3,
   "id": "serious-measure",
   "metadata": {},
   "outputs": [
    {
     "name": "stdout",
     "output_type": "stream",
     "text": [
      "4.2\n"
     ]
    }
   ],
   "source": [
    "print(astropy.__version__)"
   ]
  },
  {
   "cell_type": "code",
   "execution_count": null,
   "id": "native-theory",
   "metadata": {},
   "outputs": [],
   "source": []
  }
 ],
 "metadata": {
  "kernelspec": {
   "display_name": "Python [conda env:ELT]",
   "language": "python",
   "name": "conda-env-ELT-py"
  },
  "language_info": {
   "codemirror_mode": {
    "name": "ipython",
    "version": 3
   },
   "file_extension": ".py",
   "mimetype": "text/x-python",
   "name": "python",
   "nbconvert_exporter": "python",
   "pygments_lexer": "ipython3",
   "version": "3.8.2"
  }
 },
 "nbformat": 4,
 "nbformat_minor": 5
}
