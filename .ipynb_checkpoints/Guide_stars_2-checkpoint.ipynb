{
 "cells": [
  {
   "cell_type": "markdown",
   "id": "expensive-conservation",
   "metadata": {},
   "source": [
    "# Estimate fraction of problematic binaries with the Gaia simulated universe\n",
    "\n",
    "## Rationale\n",
    "Here we explore which fraction of stars are part of binaries with a problematic configuration (in terms of angular separation and brightness ratio) for ELT operations.\n",
    "\n",
    "## Method\n",
    "We use EDR3 version of the simulated Gaia universe based on Robin et al. 2012: \"Gaia Universe model snapshot. A statistical analysis of the expected contents of the Gaia catalogue\"\n",
    "\n",
    "There are two critical parts of the simulation:<br>\n",
    "GUMS: \"Gaia Universe Model Simulator\" which includes all intrinsic properties of the simulated stellar systems (including a binary star model from Arenou 2011)<br>\n",
    "GOG: \"Gaia Object Generator\", which is the simulation \"observed\" with the EDR3 detection sensitivity and noise properties.\n",
    "More info:\n",
    "https://nanopdf.com/download/gums-amp-gog-simulating-the-universe-for-gaia_pdf\n",
    "\n",
    "## Technical\n",
    "We first estimate intrinsic H-band fluxes for each star in the GUMS based on their effective temperatures (assuming stars are dwarf stars).\n",
    "All H-band magnitudes are in Absolute Bolometric (AB) units\n",
    "Then we explore a selection of stars in H-band, and report which other stars are nearby and within a certain flux ratio (in H-band).\n",
    "\n",
    "\n",
    "## Conclusion\n",
    "The fraction of \"problematic\" stars is significant, ~40%, even though this depends on which WFS is used, and which possible mitigation strategies are employed to reliably measure centroids (without the \"ping-pong\" effect). This is the motivation to explore option to clean up the catalogue with available information. That is the topic of notebook 3."
   ]
  },
  {
   "cell_type": "code",
   "execution_count": 6,
   "id": "republican-green",
   "metadata": {},
   "outputs": [],
   "source": [
    "#FUNCTIONS AND MODULES\n",
    "import sys\n",
    "import math\n",
    "import pandas as pd\n",
    "pd.set_option('max_columns', None)\n",
    "import numpy as np\n",
    "import six\n",
    "from pyvo.dal import tap\n",
    "import matplotlib\n",
    "from matplotlib.pylab import plt\n",
    "import astropy\n",
    "from astropy import units as u\n",
    "\n",
    "from astropy.coordinates import SkyCoord\n",
    "from astropy.units import Quantity\n",
    "from astropy.coordinates.tests.utils import randomly_sample_sphere\n",
    "from astroquery.esasky import ESASky\n",
    "from astropy.coordinates import match_coordinates_sky\n",
    "\n",
    "ESA_TAP_CAT = \"https://gaia.aip.de/tap\"\n",
    "tapcatesa = tap.TAPService(ESA_TAP_CAT)\n",
    "\n",
    "\n",
    "#this is intrinsic:\n",
    "def query_GUMS(ra_search, dec_search, radius):\n",
    "    query=\"\"\"SELECT source_extended_id, source_id, solution_id, ra, dec, barycentric_distance, pmra, pmdec, mag_g, mag_bp, mag_rp, v_i, mean_absolute_v\n",
    "    ag, av, teff, spectral_type, logg, feh, alphafe, mbol, age, mass, radius, population, nc, nt, semimajor_axis, eccentricity\n",
    "    inclination, orbit_period, periastron_date, periastron_argument\n",
    "    FROM gaiaedr3.gaia_universe_model WHERE CONTAINS(point('ICRS', ra, dec), circle('ICRS', %f, %f, %f))=1\"\"\" % (ra_search, dec_search, radius)\n",
    "    print(query)\n",
    "    res = tapcatesa.run_sync(query)\n",
    "    df_Gaia = res.to_table().to_pandas()\n",
    "    return df_Gaia\n",
    "\n",
    "#this is observed:\n",
    "def query_GOG(ra_search, dec_search, rradius):\n",
    "    query=\"\"\"SELECT source_id, ra, dec, phot_g_mean_mag\n",
    "    FROM gaiaedr3.gaia_source_simulation WHERE CONTAINS(point('ICRS', ra, dec), circle('ICRS', %f, %f, %f))=1\"\"\" % (ra_search, dec_search, rradius)\n",
    "    print(query)\n",
    "    res = tapcatesa.run_sync(query)\n",
    "    df_Gaia = res.to_table().to_pandas()\n",
    "    return df_Gaia"
   ]
  },
  {
   "cell_type": "code",
   "execution_count": 7,
   "id": "continental-imperial",
   "metadata": {},
   "outputs": [
    {
     "name": "stdout",
     "output_type": "stream",
     "text": [
      "python version 3.8.2\n",
      "numpy version 1.19.2\n",
      "astropy version 4.2\n",
      "pandas version 1.2.1\n",
      "matplotlib version 3.3.2\n"
     ]
    }
   ],
   "source": [
    "# Show dependencies/versions\n",
    "from platform import python_version\n",
    "print(f'python version {python_version()}')\n",
    "print(f'numpy version {np.__version__}')\n",
    "print(f'astropy version {astropy.__version__}')\n",
    "print(f'pandas version {pd.__version__}')\n",
    "print(f'matplotlib version {matplotlib.__version__}')\n"
   ]
  },
  {
   "cell_type": "markdown",
   "id": "solar-extra",
   "metadata": {},
   "source": [
    "## Get G-H color as function of Teff\n",
    "\n",
    "Assume only dwarf stars, good enough for this purpose. Then we can predict H-band magnitudes for all sources.\n",
    "\n",
    "Use file \"EEM_dwarf_UBVIJHK_colors_Teff_use.txt\", which contains also some relevant references\n"
   ]
  },
  {
   "cell_type": "code",
   "execution_count": 2,
   "id": "confident-elder",
   "metadata": {},
   "outputs": [
    {
     "data": {
      "text/plain": [
       "Text(0, 0.5, 'GaiaG-H')"
      ]
     },
     "execution_count": 2,
     "metadata": {},
     "output_type": "execute_result"
    },
    {
     "data": {
      "image/png": "[encoded data removed]",
      "text/plain": [
       "<Figure size 432x288 with 1 Axes>"
      ]
     },
     "metadata": {
      "needs_background": "light"
     },
     "output_type": "display_data"
    }
   ],
   "source": [
    "df_colors = pd.read_csv('EEM_dwarf_UBVIJHK_colors_Teff_use.txt', sep='\\s+',comment='#')\n",
    "df_colors['G-H'] = df_colors['G-V']+df_colors['V-Ks']-df_colors['H-Ks']\n",
    "from scipy.interpolate import interp1d\n",
    "ftefftocolor = interp1d(df_colors['Teff'], df_colors['G-H'], fill_value='extrapolate')\n",
    "\n",
    "# Check that it is indeed pretty good\n",
    "plt.scatter(df_colors['Teff'], df_colors['G-H'], color='orange', marker='.')\n",
    "A = np.linspace(1500,30000,100)\n",
    "B = ftefftocolor(A)\n",
    "plt.plot(A,B)\n",
    "plt.xlabel('Teff')\n",
    "plt.ylabel('GaiaG-H')"
   ]
  },
  {
   "cell_type": "markdown",
   "id": "future-chassis",
   "metadata": {},
   "source": [
    "# Run the query"
   ]
  },
  {
   "cell_type": "code",
   "execution_count": 3,
   "id": "handed-exception",
   "metadata": {},
   "outputs": [
    {
     "name": "stdout",
     "output_type": "stream",
     "text": [
      "SELECT source_id, ra, dec, phot_g_mean_mag\n",
      "    FROM gaiaedr3.gaia_source_simulation WHERE CONTAINS(point('ICRS', ra, dec), circle('ICRS', 150.114160, -0.316298, 0.222222))=1\n",
      "SELECT source_extended_id, source_id, solution_id, ra, dec, barycentric_distance, pmra, pmdec, mag_g, mag_bp, mag_rp, v_i, mean_absolute_v\n",
      "    ag, av, teff, spectral_type, logg, feh, alphafe, mbol, age, mass, radius, population, nc, nt, semimajor_axis, eccentricity\n",
      "    inclination, orbit_period, periastron_date, periastron_argument\n",
      "    FROM gaiaedr3.gaia_universe_model WHERE CONTAINS(point('ICRS', ra, dec), circle('ICRS', 150.114160, -0.316298, 0.222222))=1\n"
     ]
    }
   ],
   "source": [
    "df_gog = query_GOG(150.114160,-0.316298, 800./3600.)\n",
    "df_gums = query_GUMS(150.114160,-0.316298, 800./3600.) #558 sqr arcmin, around \"COSMOS\"\n",
    "df_gums['max_sep_arcsec'] = df_gums['semimajor_axis']/df_gums['barycentric_distance']"
   ]
  },
  {
   "cell_type": "code",
   "execution_count": 4,
   "id": "negative-wiring",
   "metadata": {},
   "outputs": [],
   "source": [
    "# Update the intrinsic properties with estimated H-band magnitudes based on effective temperatures and G-band magnitudes\n",
    "df_gums['G-H'] = ftefftocolor(df_gums['teff'])\n",
    "df_gums['Hmag'] = df_gums['mag_g']-df_gums['G-H']+1.6 #convert to AB mag\n",
    "df_gums['source_extended_id_group'] = df_gums['source_extended_id'].str[:17]\n",
    "# Sort by group to which each star (physically) belongs\n",
    "df_gums = df_gums.sort_values(['source_extended_id_group','Hmag']).reset_index()"
   ]
  },
  {
   "cell_type": "code",
   "execution_count": 5,
   "id": "agricultural-quantum",
   "metadata": {},
   "outputs": [],
   "source": [
    "# Iterate over each group, save brightest H-band mag and delta-magnitudes\n",
    "for id_group in df_gums['source_extended_id_group'].unique():\n",
    "    SEL = (df_gums['source_extended_id_group'] == id_group) & (df_gums['G-H'].isna() == False)\n",
    "    brightest = df_gums[SEL]['Hmag'].min()\n",
    "    df_gums.loc[SEL, 'Hmagdiff'] = df_gums.loc[SEL, 'Hmag'] - brightest\n"
   ]
  },
  {
   "cell_type": "code",
   "execution_count": 6,
   "id": "dangerous-taylor",
   "metadata": {},
   "outputs": [],
   "source": [
    "# Use simulated observed catalogue to mark which stars are actually detectable by Gaia\n",
    "df_gums['detected'] = 0\n",
    "df_gums['gog_magnitude'] = 0\n",
    "for source_id, gog_magnitude in zip(df_gog['source_id'],df_gog['phot_g_mean_mag']):\n",
    "    df_gums.loc[df_gums['source_id'] == source_id, 'detected'] = 1\n",
    "    df_gums.loc[df_gums['source_id'] == source_id, 'gog_magnitude'] = gog_magnitude\n"
   ]
  },
  {
   "cell_type": "code",
   "execution_count": 7,
   "id": "valid-billion",
   "metadata": {},
   "outputs": [],
   "source": [
    "# go through list of all detected sources and check if they are single source within 1 arcsec and dmag 3\n",
    "# for that exercise, also consider all sources that are initially not detected\n",
    "df_gums.dropna(inplace=True)\n",
    "df_gums.reset_index(drop=True, inplace=True)\n",
    "c = SkyCoord(ra=df_gums.ra*u.degree, dec=df_gums.dec*u.degree)\n",
    "idxself, d2dself, d3dself = c.match_to_catalog_sky(c, nthneighbor=2)"
   ]
  },
  {
   "cell_type": "code",
   "execution_count": 8,
   "id": "suitable-optimization",
   "metadata": {},
   "outputs": [
    {
     "data": {
      "image/png": "[encoded data removed]",
      "text/plain": [
       "<Figure size 432x288 with 1 Axes>"
      ]
     },
     "metadata": {
      "needs_background": "light"
     },
     "output_type": "display_data"
    }
   ],
   "source": [
    "# Check which stars are detected and which aren't\n",
    "SEL = df_gums['detected'] > 0.5\n",
    "bins=np.linspace(12,26,28)\n",
    "plt.hist(df_gums['mag_g'], bins=bins, label='All')\n",
    "plt.hist(df_gums[SEL]['mag_g'], bins=bins, label='Detected')\n",
    "plt.xlabel('Gaia G-band mag')\n",
    "plt.ylabel('#')\n",
    "plt.legend()\n",
    "plt.show()"
   ]
  },
  {
   "cell_type": "code",
   "execution_count": 9,
   "id": "british-bhutan",
   "metadata": {},
   "outputs": [
    {
     "name": "stdout",
     "output_type": "stream",
     "text": [
      "181 685 475\n",
      "0.38105263157894737 181\n"
     ]
    },
    {
     "data": {
      "image/png": "[encoded data removed]",
      "text/plain": [
       "<Figure size 432x288 with 2 Axes>"
      ]
     },
     "metadata": {
      "needs_background": "light"
     },
     "output_type": "display_data"
    }
   ],
   "source": [
    "coordall = SkyCoord(ra=df_gums['ra']*u.degree, dec=df_gums['dec']*u.degree)\n",
    "nfine = 0\n",
    "nnotfine = 0\n",
    "Hmagsnotfine = (np.array([]))\n",
    "#detectednotfine = (np.array([]))\n",
    "XARR = (np.array([]))\n",
    "YARR = (np.array([]))\n",
    "ZARR = (np.array([]))\n",
    "\n",
    "for ra, dec, Hmag, detected in zip(df_gums['ra'], df_gums['dec'], df_gums['Hmag'], df_gums['detected']):\n",
    "    if detected:\n",
    "        coordnow = SkyCoord(ra=ra*u.degree, dec=dec*u.degree)\n",
    "        idx, d2d, d3d = coordnow.match_to_catalog_sky(coordall, nthneighbor=2)\n",
    "\n",
    "        dsep = d2d.arcsec*1000.\n",
    "        dmag = abs(df_gums.loc[idx, ['Hmag']]-Hmag)\n",
    "        magmin = min(df_gums.loc[idx, ['Hmag']][0],Hmag)\n",
    "        #detectedcompanion = df_gums.loc[idx, ['detected']][0]\n",
    "        if dsep > 5000.0:\n",
    "            nfine +=1 \n",
    "        else:\n",
    "            if dmag[0] < 5.:\n",
    "                nnotfine +=1\n",
    "                #if detectedcompanion > 0.5:\n",
    "                XARR = np.append(XARR,dmag[0])\n",
    "                YARR = np.append(YARR,dsep)\n",
    "                ZARR = np.append(ZARR,magmin)\n",
    "\n",
    "                Hmagsnotfine = np.append(Hmagsnotfine, Hmag)\n",
    "                #detectednotfine = np.append(detectednotfine, detectedcompanion)\n",
    "\n",
    "            else:\n",
    "                nfine +=1\n",
    "\n",
    "print(len(XARR), len(df_gums['ra']), df_gums['detected'].sum())\n",
    "plt.scatter(XARR, YARR, c=ZARR, marker='.')\n",
    "print(nnotfine/(nfine+nnotfine), nnotfine)\n",
    "plt.yscale('log')\n",
    "plt.xlabel('Hmag diff')\n",
    "plt.ylabel('angsep (mas)')\n",
    "plt.xlim((-0.1,5))\n",
    "cbar = plt.colorbar()\n",
    "cbar.set_label('$\\mathrm{H_{AB}}$ brightest') \n",
    "\n",
    "\n",
    "plt.savefig('dsepdmag_nobox.png', dpi=200)\n",
    "plt.plot([-1,3,3,-1,-1],[1000,1000,4,4,1000], '--', color='black') #The exact definition of this box is under discussion and may depend on instrument and observing mode\n",
    "plt.savefig('dsepdmag_box.png', dpi=200)\n",
    "plt.show()"
   ]
  }
 ],
 "metadata": {
  "kernelspec": {
   "display_name": "Python [conda env:ELT]",
   "language": "python",
   "name": "conda-env-ELT-py"
  },
  "language_info": {
   "codemirror_mode": {
    "name": "ipython",
    "version": 3
   },
   "file_extension": ".py",
   "mimetype": "text/x-python",
   "name": "python",
   "nbconvert_exporter": "python",
   "pygments_lexer": "ipython3",
   "version": "3.8.2"
  }
 },
 "nbformat": 4,
 "nbformat_minor": 5
}
